{
 "cells": [
  {
   "cell_type": "code",
   "execution_count": 21,
   "metadata": {},
   "outputs": [],
   "source": [
    "import pystan\n",
    "import pandas as pd\n",
    "from bayesian_analysis import BayesianAnalysis, BayesianRevenue, BayesianConversion"
   ]
  },
  {
   "cell_type": "code",
   "execution_count": 22,
   "metadata": {},
   "outputs": [
    {
     "data": {
      "text/plain": [
       "'2.19.0.0'"
      ]
     },
     "execution_count": 22,
     "metadata": {},
     "output_type": "execute_result"
    }
   ],
   "source": [
    "pystan.__version__"
   ]
  },
  {
   "cell_type": "code",
   "execution_count": 23,
   "metadata": {},
   "outputs": [
    {
     "name": "stderr",
     "output_type": "stream",
     "text": [
      "INFO:pystan:COMPILING THE C++ CODE FOR MODEL anon_model_e10b5aaf0bda8c3fd55c449a8894ff67 NOW.\n"
     ]
    }
   ],
   "source": [
    "sm_revenue = pystan.StanModel(file='revenue_model.stan')"
   ]
  },
  {
   "cell_type": "code",
   "execution_count": 24,
   "metadata": {},
   "outputs": [],
   "source": [
    "boop = BayesianRevenue('data', 1, 1, sm_revenue)"
   ]
  },
  {
   "cell_type": "code",
   "execution_count": 78,
   "metadata": {},
   "outputs": [],
   "source": [
    "df = pd.read_csv('../sevenpack/data/exp_385.csv')"
   ]
  },
  {
   "cell_type": "code",
   "execution_count": 80,
   "metadata": {},
   "outputs": [],
   "source": [
    "from pandas import Timestamp\n",
    "dt = pd.to_datetime(df['participation_timestamp_rounded_up'])\n",
    "idx = dt<Timestamp('2020-02-01')\n",
    "subxp = df.loc[idx]"
   ]
  },
  {
   "cell_type": "code",
   "execution_count": 86,
   "metadata": {},
   "outputs": [],
   "source": [
    "unique_buckets = subxp.bucket.unique()"
   ]
  },
  {
   "cell_type": "code",
   "execution_count": 87,
   "metadata": {},
   "outputs": [
    {
     "data": {
      "text/plain": [
       "array(['control', 'show_modal_forced_selection',\n",
       "       'show_modal_optional_selection'], dtype=object)"
      ]
     },
     "execution_count": 87,
     "metadata": {},
     "output_type": "execute_result"
    }
   ],
   "source": [
    "unique_buckets"
   ]
  },
  {
   "cell_type": "code",
   "execution_count": 88,
   "metadata": {},
   "outputs": [],
   "source": [
    "results = []"
   ]
  },
  {
   "cell_type": "code",
   "execution_count": 89,
   "metadata": {},
   "outputs": [
    {
     "data": {
      "text/plain": [
       "2057546"
      ]
     },
     "execution_count": 89,
     "metadata": {},
     "output_type": "execute_result"
    }
   ],
   "source": [
    "len(subxp)"
   ]
  },
  {
   "cell_type": "code",
   "execution_count": 92,
   "metadata": {},
   "outputs": [],
   "source": [
    "results = []\n",
    "for bucket in unique_buckets:\n",
    "    bucket_df = subxp.loc[subxp[\"bucket\"] == bucket]\n",
    "    res = boop._generate_posterior_distribution(bucket_df)\n",
    "    results.append(res)"
   ]
  },
  {
   "cell_type": "code",
   "execution_count": 93,
   "metadata": {},
   "outputs": [],
   "source": [
    "n = len(results)"
   ]
  },
  {
   "cell_type": "code",
   "execution_count": 95,
   "metadata": {},
   "outputs": [
    {
     "data": {
      "text/plain": [
       "<matplotlib.axes._subplots.AxesSubplot at 0x122bfe090>"
      ]
     },
     "execution_count": 95,
     "metadata": {},
     "output_type": "execute_result"
    },
    {
     "data": {
      "image/png": "[encoded data removed]",
      "text/plain": [
       "<Figure size 432x288 with 1 Axes>"
      ]
     },
     "metadata": {
      "needs_background": "light"
     },
     "output_type": "display_data"
    }
   ],
   "source": [
    "import seaborn as sns\n",
    "sns.distplot(results[0])\n",
    "sns.distplot(results[1])\n",
    "sns.distplot(results[2])"
   ]
  },
  {
   "cell_type": "code",
   "execution_count": null,
   "metadata": {},
   "outputs": [],
   "source": []
  },
  {
   "cell_type": "code",
   "execution_count": 96,
   "metadata": {},
   "outputs": [],
   "source": [
    "def _calculate_expected_loss(res_lists: list, num_groups: int) -> list:\n",
    "    loss_stats = []\n",
    "    print(num_groups)\n",
    "    if num_groups == 2:\n",
    "        a = res_lists[0]\n",
    "        b = res_lists[1]\n",
    "        loss_a = np.mean(np.maximum(b - a, 0))\n",
    "        loss_b = np.mean(np.maximum(a - b, 0))\n",
    "        loss_stats.append(loss_a)\n",
    "        loss_stats.append(loss_b)\n",
    "\n",
    "    if num_groups == 3:\n",
    "        a = res_lists[0]\n",
    "        b = res_lists[1]\n",
    "        c = res_lists[2]\n",
    "        loss_a = np.mean(np.maximum(b - a, 0))\n",
    "        loss_a = np.mean(np.maximum(loss_a, c - a))\n",
    "        loss_b = np.mean(np.maximum(a - b, 0))\n",
    "        loss_b = np.mean(np.maximum(loss_b, c - b))\n",
    "        loss_c = np.mean(np.maximum(a - c, 0))\n",
    "        loss_b = np.mean(np.maximum(loss_c, b - c))\n",
    "        loss_stats.append(loss_a)\n",
    "        loss_stats.append(loss_b)\n",
    "        loss_stats.append(loss_c)\n",
    "\n",
    "    if num_groups == 4:\n",
    "        a = res_lists[0]\n",
    "        b = res_lists[1]\n",
    "        c = res_lists[2]\n",
    "        d = res_lists[3]\n",
    "        loss_a = np.mean(np.maximum(b - a, c - a, d - a, 0))\n",
    "        loss_b = np.mean(np.maximum(a - b, c - b, d - b, 0))\n",
    "        loss_c = np.mean(np.maximum(a - c, b - c, d - c, 0))\n",
    "        loss_d = np.mean(np.maximum(a - d, b - d, c - d, 0))\n",
    "        loss_stats.append(loss_a)\n",
    "        loss_stats.append(loss_b)\n",
    "        loss_stats.append(loss_c)\n",
    "        loss_stats.append(loss_d)\n",
    "    #raise ValueError(f'{num_groups} is misspecified') \n",
    "\n",
    "    return loss_stats\n"
   ]
  },
  {
   "cell_type": "code",
   "execution_count": 97,
   "metadata": {},
   "outputs": [
    {
     "name": "stdout",
     "output_type": "stream",
     "text": [
      "3\n"
     ]
    }
   ],
   "source": [
    "losses = _calculate_expected_loss(results, 3)"
   ]
  },
  {
   "cell_type": "code",
   "execution_count": 98,
   "metadata": {},
   "outputs": [
    {
     "data": {
      "text/plain": [
       "[0.0002221755267113902, 0.3506679921265005, 0.35066799212650046]"
      ]
     },
     "execution_count": 98,
     "metadata": {},
     "output_type": "execute_result"
    }
   ],
   "source": [
    "losses"
   ]
  },
  {
   "cell_type": "code",
   "execution_count": null,
   "metadata": {
    "collapsed": true
   },
   "outputs": [],
   "source": []
  },
  {
   "cell_type": "code",
   "execution_count": null,
   "metadata": {},
   "outputs": [],
   "source": []
  },
  {
   "cell_type": "code",
   "execution_count": null,
   "metadata": {},
   "outputs": [],
   "source": []
  },
  {
   "cell_type": "code",
   "execution_count": 61,
   "metadata": {},
   "outputs": [],
   "source": [
    "losses = []"
   ]
  },
  {
   "cell_type": "code",
   "execution_count": 49,
   "metadata": {},
   "outputs": [
    {
     "name": "stdout",
     "output_type": "stream",
     "text": [
      "i,j:(0, 1)\n",
      "i,j:(0, 2)\n",
      "0.043910077988576816\n",
      "i,j:(1, 2)\n",
      "0.028211394601960805\n",
      "0.028211394601960805\n"
     ]
    }
   ],
   "source": [
    "losses = []\n",
    "for i in range(n):\n",
    "    j = i+1\n",
    "    while(j < n):\n",
    "        diff = results[j] - results[i]\n",
    "        print(f'i,j:{i, j}')\n",
    "        if j == i+1:\n",
    "            loss_i = np.maximum(diff, 0)\n",
    "        else:\n",
    "            loss_i = np.maximum(diff, loss_i)\n",
    "        #print(diffs)\n",
    "        j += 1\n",
    "    loss_i = np.mean(loss_i)\n",
    "    print(loss_i)\n",
    "    losses.append(loss_i)\n",
    "        "
   ]
  },
  {
   "cell_type": "code",
   "execution_count": 48,
   "metadata": {},
   "outputs": [
    {
     "data": {
      "text/plain": [
       "[0.043910077988576816, 0.028211394601960805, 0.044726050752105055]"
      ]
     },
     "execution_count": 48,
     "metadata": {},
     "output_type": "execute_result"
    }
   ],
   "source": [
    "losses"
   ]
  },
  {
   "cell_type": "code",
   "execution_count": null,
   "metadata": {},
   "outputs": [],
   "source": []
  },
  {
   "cell_type": "code",
   "execution_count": null,
   "metadata": {
    "collapsed": true
   },
   "outputs": [],
   "source": []
  },
  {
   "cell_type": "code",
   "execution_count": null,
   "metadata": {},
   "outputs": [],
   "source": []
  },
  {
   "cell_type": "code",
   "execution_count": 10,
   "metadata": {},
   "outputs": [],
   "source": [
    "bucket_df = df.loc[df[\"bucket\"] == unique_buckets[0]]\n",
    "res = boop._generate_posterior_distribution(bucket_df)\n",
    "results.append(res)"
   ]
  },
  {
   "cell_type": "code",
   "execution_count": 11,
   "metadata": {},
   "outputs": [],
   "source": [
    "bucket_df = df.loc[df[\"bucket\"] == unique_buckets[1]]\n",
    "res = boop._generate_posterior_distribution(bucket_df)\n",
    "results.append(res)"
   ]
  },
  {
   "cell_type": "code",
   "execution_count": 12,
   "metadata": {},
   "outputs": [
    {
     "ename": "AttributeError",
     "evalue": "'BayesianRevenue' object has no attribute '_generate_posterior_distribution_for_revenue'",
     "output_type": "error",
     "traceback": [
      "\u001b[0;31m---------------------------------------------------------------------------\u001b[0m",
      "\u001b[0;31mAttributeError\u001b[0m                            Traceback (most recent call last)",
      "\u001b[0;32m<ipython-input-12-0f9958fbb1c8>\u001b[0m in \u001b[0;36m<module>\u001b[0;34m\u001b[0m\n\u001b[0;32m----> 1\u001b[0;31m \u001b[0mboop\u001b[0m\u001b[0;34m.\u001b[0m\u001b[0m_generate_posterior_distribution_for_revenue\u001b[0m\u001b[0;34m(\u001b[0m\u001b[0mdf\u001b[0m\u001b[0;34m)\u001b[0m\u001b[0;34m\u001b[0m\u001b[0;34m\u001b[0m\u001b[0m\n\u001b[0m",
      "\u001b[0;31mAttributeError\u001b[0m: 'BayesianRevenue' object has no attribute '_generate_posterior_distribution_for_revenue'"
     ]
    }
   ],
   "source": [
    "boop._generate_posterior_distribution_for_revenue(df)"
   ]
  },
  {
   "cell_type": "code",
   "execution_count": null,
   "metadata": {},
   "outputs": [],
   "source": [
    "df2 = pd.read_csv('../sevenpack/data/xp_432_cvr.csv')"
   ]
  },
  {
   "cell_type": "code",
   "execution_count": null,
   "metadata": {},
   "outputs": [],
   "source": [
    "sm_conversion = pystan.StanModel(file = 'conversion_model.stan')"
   ]
  },
  {
   "cell_type": "code",
   "execution_count": null,
   "metadata": {},
   "outputs": [],
   "source": [
    "boop2 = BayesianConversion('is_converted', 1, 1, sm_conversion)"
   ]
  },
  {
   "cell_type": "code",
   "execution_count": null,
   "metadata": {},
   "outputs": [],
   "source": [
    "res = boop2._generate_posterior_distribution_for_conversions(df2)"
   ]
  },
  {
   "cell_type": "code",
   "execution_count": null,
   "metadata": {},
   "outputs": [],
   "source": [
    "res"
   ]
  },
  {
   "cell_type": "code",
   "execution_count": null,
   "metadata": {},
   "outputs": [],
   "source": [
    "sns.distplot(res)"
   ]
  },
  {
   "cell_type": "code",
   "execution_count": null,
   "metadata": {},
   "outputs": [],
   "source": []
  }
 ],
 "metadata": {
  "kernelspec": {
   "display_name": "Python 3",
   "language": "python",
   "name": "python3"
  },
  "language_info": {
   "codemirror_mode": {
    "name": "ipython",
    "version": 3
   },
   "file_extension": ".py",
   "mimetype": "text/x-python",
   "name": "python",
   "nbconvert_exporter": "python",
   "pygments_lexer": "ipython3",
   "version": "3.7.7"
  },
  "toc": {
   "base_numbering": 1,
   "nav_menu": {},
   "number_sections": true,
   "sideBar": true,
   "skip_h1_title": false,
   "title_cell": "Table of Contents",
   "title_sidebar": "Contents",
   "toc_cell": false,
   "toc_position": {},
   "toc_section_display": true,
   "toc_window_display": false
  },
  "varInspector": {
   "cols": {
    "lenName": 16,
    "lenType": 16,
    "lenVar": 40
   },
   "kernels_config": {
    "python": {
     "delete_cmd_postfix": "",
     "delete_cmd_prefix": "del ",
     "library": "var_list.py",
     "varRefreshCmd": "print(var_dic_list())"
    },
    "r": {
     "delete_cmd_postfix": ") ",
     "delete_cmd_prefix": "rm(",
     "library": "var_list.r",
     "varRefreshCmd": "cat(var_dic_list()) "
    }
   },
   "types_to_exclude": [
    "module",
    "function",
    "builtin_function_or_method",
    "instance",
    "_Feature"
   ],
   "window_display": false
  }
 },
 "nbformat": 4,
 "nbformat_minor": 4
}
