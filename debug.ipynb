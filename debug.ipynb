{
 "cells": [
  {
   "cell_type": "code",
   "execution_count": 1,
   "metadata": {},
   "outputs": [],
   "source": [
    "import pystan\n",
    "import pandas as pd\n",
    "from bayesian_analysis import BayesianAnalysis, BayesianRevenue, BayesianConversion\n",
    "from bayesian_testing import BayesianTesting"
   ]
  },
  {
   "cell_type": "code",
   "execution_count": 2,
   "metadata": {},
   "outputs": [
    {
     "data": {
      "text/plain": [
       "'2.19.0.0'"
      ]
     },
     "execution_count": 2,
     "metadata": {},
     "output_type": "execute_result"
    }
   ],
   "source": [
    "pystan.__version__"
   ]
  },
  {
   "cell_type": "code",
   "execution_count": 3,
   "metadata": {},
   "outputs": [
    {
     "name": "stderr",
     "output_type": "stream",
     "text": [
      "INFO:pystan:COMPILING THE C++ CODE FOR MODEL anon_model_e10b5aaf0bda8c3fd55c449a8894ff67 NOW.\n"
     ]
    }
   ],
   "source": [
    "sm_revenue = pystan.StanModel(file='revenue_model.stan')"
   ]
  },
  {
   "cell_type": "code",
   "execution_count": 4,
   "metadata": {},
   "outputs": [],
   "source": [
    "column_for_data_analysis = 'data'\n",
    "analysis_type = 'Bayesian-Revenue'\n",
    "stan_model = sm_revenue\n",
    "prior_alpha = 1\n",
    "prior_beta = 1"
   ]
  },
  {
   "cell_type": "code",
   "execution_count": 5,
   "metadata": {},
   "outputs": [],
   "source": [
    "bt = BayesianTesting(column_for_data_analysis, analysis_type, \n",
    "                     stan_model, prior_alpha, prior_beta)"
   ]
  },
  {
   "cell_type": "code",
   "execution_count": 6,
   "metadata": {},
   "outputs": [],
   "source": [
    "df = pd.read_csv('../sevenpack/data/exp_385.csv')\n",
    "from pandas import Timestamp\n",
    "dt = pd.to_datetime(df['participation_timestamp_rounded_up'])\n",
    "idx = dt<Timestamp('2020-02-01')\n",
    "subxp = df.loc[idx]"
   ]
  },
  {
   "cell_type": "code",
   "execution_count": 7,
   "metadata": {},
   "outputs": [],
   "source": [
    "posteriors = bt._generate_bucket_posteriors(subxp)"
   ]
  },
  {
   "cell_type": "code",
   "execution_count": 8,
   "metadata": {},
   "outputs": [],
   "source": [
    "stats = bt._generate_test_statistics(posteriors)"
   ]
  },
  {
   "cell_type": "code",
   "execution_count": 9,
   "metadata": {},
   "outputs": [
    {
     "data": {
      "text/plain": [
       "[([('control',\n",
       "    array([6.71683526, 6.79202183, 6.84737884, 6.90742433, 6.9807618 ])),\n",
       "   ('show_modal_forced_selection',\n",
       "    array([6.30682227, 6.37025563, 6.4214336 , 6.47082686, 6.53993842])),\n",
       "   ('show_modal_optional_selection',\n",
       "    array([6.37557257, 6.4406132 , 6.49467203, 6.56257134, 6.62918632]))],\n",
       "  [('control', 1.0),\n",
       "   ('show_modal_forced_selection', 0.0),\n",
       "   ('show_modal_optional_selection', 0.0)],\n",
       "  [('control', 0.0),\n",
       "   ('show_modal_forced_selection', 0.42884195127625757),\n",
       "   ('show_modal_optional_selection', 0.35037095303429405)])]"
      ]
     },
     "execution_count": 9,
     "metadata": {},
     "output_type": "execute_result"
    }
   ],
   "source": [
    "stats"
   ]
  },
  {
   "cell_type": "code",
   "execution_count": null,
   "metadata": {},
   "outputs": [],
   "source": []
  },
  {
   "cell_type": "code",
   "execution_count": null,
   "metadata": {},
   "outputs": [],
   "source": [
    "boop = BayesianRevenue('data', 1, 1, sm_revenue)"
   ]
  },
  {
   "cell_type": "code",
   "execution_count": null,
   "metadata": {},
   "outputs": [],
   "source": [
    "df = pd.read_csv('../sevenpack/data/exp_385.csv')"
   ]
  },
  {
   "cell_type": "code",
   "execution_count": null,
   "metadata": {},
   "outputs": [],
   "source": [
    "from pandas import Timestamp\n",
    "dt = pd.to_datetime(df['participation_timestamp_rounded_up'])\n",
    "idx = dt<Timestamp('2020-02-01')\n",
    "subxp = df.loc[idx]"
   ]
  },
  {
   "cell_type": "code",
   "execution_count": null,
   "metadata": {},
   "outputs": [],
   "source": [
    "unique_buckets = subxp.bucket.unique()"
   ]
  },
  {
   "cell_type": "code",
   "execution_count": null,
   "metadata": {},
   "outputs": [],
   "source": [
    "unique_buckets"
   ]
  },
  {
   "cell_type": "code",
   "execution_count": null,
   "metadata": {},
   "outputs": [],
   "source": [
    "results = []"
   ]
  },
  {
   "cell_type": "code",
   "execution_count": null,
   "metadata": {},
   "outputs": [],
   "source": [
    "len(subxp)"
   ]
  },
  {
   "cell_type": "code",
   "execution_count": null,
   "metadata": {},
   "outputs": [],
   "source": [
    "results = []\n",
    "for bucket in unique_buckets:\n",
    "    bucket_df = subxp.loc[subxp[\"bucket\"] == bucket]\n",
    "    res = boop._generate_posterior_distribution(bucket_df)\n",
    "    results.append((bucket, res))"
   ]
  },
  {
   "cell_type": "code",
   "execution_count": null,
   "metadata": {},
   "outputs": [],
   "source": [
    "n = len(results)"
   ]
  },
  {
   "cell_type": "code",
   "execution_count": null,
   "metadata": {},
   "outputs": [],
   "source": [
    "buckets, posts = zip(*results)"
   ]
  },
  {
   "cell_type": "code",
   "execution_count": null,
   "metadata": {},
   "outputs": [],
   "source": [
    "buckets[2]"
   ]
  },
  {
   "cell_type": "code",
   "execution_count": null,
   "metadata": {},
   "outputs": [],
   "source": [
    "for bucket, post in results:\n",
    "    print(bucket)"
   ]
  },
  {
   "cell_type": "code",
   "execution_count": null,
   "metadata": {},
   "outputs": [],
   "source": [
    "import seaborn as sns\n",
    "sns.distplot(results[0])\n",
    "sns.distplot(results[1])\n",
    "sns.distplot(results[2])"
   ]
  },
  {
   "cell_type": "code",
   "execution_count": null,
   "metadata": {},
   "outputs": [],
   "source": []
  },
  {
   "cell_type": "code",
   "execution_count": 10,
   "metadata": {},
   "outputs": [],
   "source": [
    "def _calculate_expected_loss(posteriors: list, num_groups: int) -> list:\n",
    "    buckets, res_lists = zip(*posteriors)\n",
    "    loss_stats = []\n",
    "    for i in range(num_groups):\n",
    "        j = 0\n",
    "        loss_i = 0\n",
    "        while(j < num_groups):\n",
    "            if j == i:\n",
    "                j += 1\n",
    "                continue\n",
    "            else:\n",
    "                diff = res_lists[j] - res_lists[i]\n",
    "                loss_i = np.mean(np.maximum(diff, loss_i))\n",
    "                j += 1\n",
    "        loss_stats.append((buckets[i], loss_i))\n",
    "    \n",
    "\n",
    "    return loss_stats\n"
   ]
  },
  {
   "cell_type": "code",
   "execution_count": 11,
   "metadata": {},
   "outputs": [],
   "source": [
    "losses = _calculate_expected_loss(posteriors, 3)"
   ]
  },
  {
   "cell_type": "code",
   "execution_count": 12,
   "metadata": {},
   "outputs": [
    {
     "data": {
      "text/plain": [
       "[('control', 0.0),\n",
       " ('show_modal_forced_selection', 0.42884195127625757),\n",
       " ('show_modal_optional_selection', 0.35037095303429405)]"
      ]
     },
     "execution_count": 12,
     "metadata": {},
     "output_type": "execute_result"
    }
   ],
   "source": [
    "losses"
   ]
  },
  {
   "cell_type": "code",
   "execution_count": null,
   "metadata": {},
   "outputs": [],
   "source": []
  },
  {
   "cell_type": "code",
   "execution_count": null,
   "metadata": {},
   "outputs": [],
   "source": [
    "def _calculate_chance_to_beat_all(posteriors: list, num_groups: int) -> list:\n",
    "    buckets, res_lists = zip(*posteriors)\n",
    "    prob_stats = []\n",
    "    for i in range(num_groups):\n",
    "        j = 0\n",
    "        prob_i = 0\n",
    "        \n",
    "        \n",
    "    if num_groups == 2:\n",
    "        bucket_a = buckets[0]\n",
    "        bucket_b = buckets[1]\n",
    "        a = res_lists[0]\n",
    "        b = res_lists[1]\n",
    "        diff = a - b\n",
    "        prob_a = np.sum(diff>0)/len(diff)\n",
    "        prob_b = 1 - prob_a\n",
    "        prob_stats.append((bucket_a, prob_a))\n",
    "        prob_stats.append((bucket_b, prob_b))\n",
    "        \n",
    "    if num_groups == 3:\n",
    "        bucket_a = buckets[0]\n",
    "        bucket_b = buckets[1]\n",
    "        bucket_c = buckets[2]\n",
    "        a = res_lists[0]\n",
    "        b = res_lists[1]\n",
    "        c = res_lists[2]\n",
    "        diff_ab = a - b\n",
    "        diff_ac = a - c\n",
    "        diff_bc = b - c\n",
    "        samples = len(diff_ab)\n",
    "\n",
    "        prob_a = np.sum((diff_ac > 0) & (diff_ab > 0))/samples\n",
    "        prob_b = np.sum((diff_bc > 0) & (diff_ab < 0))/samples\n",
    "        prob_c = np.sum((diff_ac < 0) & (diff_bc < 0))/samples\n",
    "        prob_stats.append((bucket_a, prob_a))\n",
    "        prob_stats.append((bucket_b, prob_b))\n",
    "        prob_stats.append((bucket_c, prob_c))\n",
    "        \n",
    "    return prob_stats"
   ]
  },
  {
   "cell_type": "code",
   "execution_count": null,
   "metadata": {},
   "outputs": [],
   "source": [
    "prob_stats = _calculate_chance_to_beat_all(results, 3)"
   ]
  },
  {
   "cell_type": "code",
   "execution_count": null,
   "metadata": {},
   "outputs": [],
   "source": [
    "prob_stats"
   ]
  },
  {
   "cell_type": "code",
   "execution_count": null,
   "metadata": {},
   "outputs": [],
   "source": [
    "buckets, res_lists = zip(*results)\n",
    "bucket_a = buckets[0]\n",
    "bucket_b = buckets[1]\n",
    "bucket_c = buckets[2]\n",
    "a = res_lists[0]\n",
    "b = res_lists[1]\n",
    "c = res_lists[2]\n",
    "diff_ab= a -b\n",
    "diff_ac= a -c"
   ]
  },
  {
   "cell_type": "code",
   "execution_count": null,
   "metadata": {},
   "outputs": [],
   "source": [
    "np.sum(diff_ab > 0)"
   ]
  },
  {
   "cell_type": "code",
   "execution_count": null,
   "metadata": {},
   "outputs": [],
   "source": [
    "np.sum(diff_ac > 0)/len(diff_ac)"
   ]
  },
  {
   "cell_type": "code",
   "execution_count": null,
   "metadata": {},
   "outputs": [],
   "source": [
    "np.sum((diff_ac > 0) & (diff_ab > 0))"
   ]
  },
  {
   "cell_type": "code",
   "execution_count": null,
   "metadata": {},
   "outputs": [],
   "source": [
    "sns.distplot(diff_ab)\n",
    "sns.distplot(diff_ac)"
   ]
  },
  {
   "cell_type": "code",
   "execution_count": null,
   "metadata": {},
   "outputs": [],
   "source": []
  },
  {
   "cell_type": "code",
   "execution_count": null,
   "metadata": {},
   "outputs": [],
   "source": []
  },
  {
   "cell_type": "code",
   "execution_count": null,
   "metadata": {},
   "outputs": [],
   "source": [
    "losses = []"
   ]
  },
  {
   "cell_type": "code",
   "execution_count": null,
   "metadata": {},
   "outputs": [],
   "source": [
    "losses = []\n",
    "for i in range(n):\n",
    "    j = i+1\n",
    "    while(j < n):\n",
    "        diff = results[j] - results[i]\n",
    "        print(f'i,j:{i, j}')\n",
    "        if j == i+1:\n",
    "            loss_i = np.maximum(diff, 0)\n",
    "        else:\n",
    "            loss_i = np.maximum(diff, loss_i)\n",
    "        #print(diffs)\n",
    "        j += 1\n",
    "    loss_i = np.mean(loss_i)\n",
    "    print(loss_i)\n",
    "    losses.append(loss_i)\n",
    "        "
   ]
  },
  {
   "cell_type": "code",
   "execution_count": null,
   "metadata": {},
   "outputs": [],
   "source": [
    "losses"
   ]
  },
  {
   "cell_type": "code",
   "execution_count": null,
   "metadata": {},
   "outputs": [],
   "source": []
  },
  {
   "cell_type": "code",
   "execution_count": null,
   "metadata": {},
   "outputs": [],
   "source": []
  },
  {
   "cell_type": "code",
   "execution_count": null,
   "metadata": {},
   "outputs": [],
   "source": []
  },
  {
   "cell_type": "code",
   "execution_count": null,
   "metadata": {},
   "outputs": [],
   "source": [
    "bucket_df = df.loc[df[\"bucket\"] == unique_buckets[0]]\n",
    "res = boop._generate_posterior_distribution(bucket_df)\n",
    "results.append(res)"
   ]
  },
  {
   "cell_type": "code",
   "execution_count": null,
   "metadata": {},
   "outputs": [],
   "source": [
    "bucket_df = df.loc[df[\"bucket\"] == unique_buckets[1]]\n",
    "res = boop._generate_posterior_distribution(bucket_df)\n",
    "results.append(res)"
   ]
  },
  {
   "cell_type": "code",
   "execution_count": null,
   "metadata": {},
   "outputs": [],
   "source": [
    "boop._generate_posterior_distribution_for_revenue(df)"
   ]
  },
  {
   "cell_type": "code",
   "execution_count": null,
   "metadata": {},
   "outputs": [],
   "source": [
    "df2 = pd.read_csv('../sevenpack/data/xp_432_cvr.csv')"
   ]
  },
  {
   "cell_type": "code",
   "execution_count": null,
   "metadata": {},
   "outputs": [],
   "source": [
    "sm_conversion = pystan.StanModel(file = 'conversion_model.stan')"
   ]
  },
  {
   "cell_type": "code",
   "execution_count": null,
   "metadata": {},
   "outputs": [],
   "source": [
    "boop2 = BayesianConversion('is_converted', 1, 1, sm_conversion)"
   ]
  },
  {
   "cell_type": "code",
   "execution_count": null,
   "metadata": {},
   "outputs": [],
   "source": [
    "res = boop2._generate_posterior_distribution_for_conversions(df2)"
   ]
  },
  {
   "cell_type": "code",
   "execution_count": null,
   "metadata": {},
   "outputs": [],
   "source": [
    "res"
   ]
  },
  {
   "cell_type": "code",
   "execution_count": null,
   "metadata": {},
   "outputs": [],
   "source": [
    "sns.distplot(res)"
   ]
  },
  {
   "cell_type": "code",
   "execution_count": null,
   "metadata": {},
   "outputs": [],
   "source": []
  }
 ],
 "metadata": {
  "kernelspec": {
   "display_name": "Python 3",
   "language": "python",
   "name": "python3"
  },
  "language_info": {
   "codemirror_mode": {
    "name": "ipython",
    "version": 3
   },
   "file_extension": ".py",
   "mimetype": "text/x-python",
   "name": "python",
   "nbconvert_exporter": "python",
   "pygments_lexer": "ipython3",
   "version": "3.7.7"
  },
  "toc": {
   "base_numbering": 1,
   "nav_menu": {},
   "number_sections": true,
   "sideBar": true,
   "skip_h1_title": false,
   "title_cell": "Table of Contents",
   "title_sidebar": "Contents",
   "toc_cell": false,
   "toc_position": {},
   "toc_section_display": true,
   "toc_window_display": false
  },
  "varInspector": {
   "cols": {
    "lenName": 16,
    "lenType": 16,
    "lenVar": 40
   },
   "kernels_config": {
    "python": {
     "delete_cmd_postfix": "",
     "delete_cmd_prefix": "del ",
     "library": "var_list.py",
     "varRefreshCmd": "print(var_dic_list())"
    },
    "r": {
     "delete_cmd_postfix": ") ",
     "delete_cmd_prefix": "rm(",
     "library": "var_list.r",
     "varRefreshCmd": "cat(var_dic_list()) "
    }
   },
   "types_to_exclude": [
    "module",
    "function",
    "builtin_function_or_method",
    "instance",
    "_Feature"
   ],
   "window_display": false
  }
 },
 "nbformat": 4,
 "nbformat_minor": 4
}
