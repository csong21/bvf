{
 "cells": [
  {
   "cell_type": "code",
   "execution_count": 87,
   "metadata": {},
   "outputs": [],
   "source": [
    "import pandas as pd\n",
    "import seaborn as sns\n",
    "import numpy as np\n",
    "import scipy.stats as stats\n",
    "import matplotlib.pyplot as plt\n",
    "from statsmodels.stats.power import FTestAnovaPower"
   ]
  },
  {
   "cell_type": "code",
   "execution_count": 79,
   "metadata": {},
   "outputs": [],
   "source": [
    "def generate_data(n_per_day, column_for_data_analysis, p1, p2, duration_days, daily = False):\n",
    "    \"\"\"\n",
    "    Returns a pd.DataFrame with simulated CTR data\n",
    "    \"\"\"\n",
    "    if daily is True:\n",
    "        df1 = pd.DataFrame()\n",
    "        df2 = pd.DataFrame()\n",
    "        date_range = pd.date_range(start = '2020-01-01', periods = duration_days)\n",
    "        \n",
    "        for t in date_range:\n",
    "            y1 = np.random.binomial(n=1, p=p1, size=n_per_day)\n",
    "            y2 = np.random.binomial(n=1, p=p2, size=n_per_day) \n",
    "            dfy1 = pd.DataFrame(y1, columns=[column_for_data_analysis])\n",
    "            dfy2 = pd.DataFrame(y2, columns=[column_for_data_analysis])\n",
    "            dfy1['participation_timestamp_rounded_up'] = t\n",
    "            dfy2['participation_timestamp_rounded_up'] = t\n",
    "            df1 = pd.concat([df1, dfy1], axis =0)\n",
    "            df2 = pd.concat([df2, dfy2], axis =0)\n",
    "    else:\n",
    "        y1 = np.random.binomial(n=1, p=p1, size = n_per_day * duration_days)\n",
    "        y2 = np.random.binomial(n=1, p=p2, size = n_per_day * duration_days)\n",
    "        df1 = pd.DataFrame(y1, columns=[column_for_data_analysis])\n",
    "        df2 = pd.DataFrame(y2, columns=[column_for_data_analysis])\n",
    "        \n",
    "    df1['bucket'] = 'bucket1'\n",
    "    df2['bucket'] = 'bucket2'\n",
    "    df = pd.concat([df1, df2], axis = 0)\n",
    "    return df"
   ]
  },
  {
   "cell_type": "code",
   "execution_count": 115,
   "metadata": {},
   "outputs": [],
   "source": [
    "n_per_day = 64796\n",
    "duration_days = 1\n",
    "p1 = 0.05\n",
    "p2 = 0.05\n",
    "column_for_data_analysis = 'is_converted'\n",
    "total_sample = n_per_day * duration_days\n",
    "df = generate_data(n_per_day,column_for_data_analysis, p1, p2, duration_days)"
   ]
  },
  {
   "cell_type": "code",
   "execution_count": 102,
   "metadata": {},
   "outputs": [
    {
     "data": {
      "text/html": [
       "<div>\n",
       "<style scoped>\n",
       "    .dataframe tbody tr th:only-of-type {\n",
       "        vertical-align: middle;\n",
       "    }\n",
       "\n",
       "    .dataframe tbody tr th {\n",
       "        vertical-align: top;\n",
       "    }\n",
       "\n",
       "    .dataframe thead th {\n",
       "        text-align: right;\n",
       "    }\n",
       "</style>\n",
       "<table border=\"1\" class=\"dataframe\">\n",
       "  <thead>\n",
       "    <tr style=\"text-align: right;\">\n",
       "      <th></th>\n",
       "      <th>is_converted</th>\n",
       "    </tr>\n",
       "    <tr>\n",
       "      <th>bucket</th>\n",
       "      <th></th>\n",
       "    </tr>\n",
       "  </thead>\n",
       "  <tbody>\n",
       "    <tr>\n",
       "      <th>bucket1</th>\n",
       "      <td>3248</td>\n",
       "    </tr>\n",
       "    <tr>\n",
       "      <th>bucket2</th>\n",
       "      <td>3181</td>\n",
       "    </tr>\n",
       "  </tbody>\n",
       "</table>\n",
       "</div>"
      ],
      "text/plain": [
       "         is_converted\n",
       "bucket               \n",
       "bucket1          3248\n",
       "bucket2          3181"
      ]
     },
     "execution_count": 102,
     "metadata": {},
     "output_type": "execute_result"
    }
   ],
   "source": [
    "df.groupby('bucket').sum()"
   ]
  },
  {
   "cell_type": "code",
   "execution_count": 103,
   "metadata": {},
   "outputs": [],
   "source": [
    "import scipy.stats as scs\n",
    "\n",
    "def min_sample_size(bcr, mde, power, sig_level):\n",
    "    \"\"\"Returns the minimum sample size to set up a split test\n",
    "    Arguments:\n",
    "        bcr (float): probability of success for control, sometimes\n",
    "        referred to as baseline conversion rate\n",
    "        mde (float): minimum change in measurement between control\n",
    "        group and test group if alternative hypothesis is true, sometimes\n",
    "        referred to as minimum detectable effect\n",
    "        power (float): probability of rejecting the null hypothesis when the\n",
    "        null hypothesis is false, typically 0.8\n",
    "        sig_level (float): significance level often denoted as alpha,\n",
    "        typically 0.05\n",
    "    Returns:\n",
    "        min_N: minimum sample size (float)\n",
    "    References:\n",
    "        Stanford lecture on sample sizes\n",
    "        http://statweb.stanford.edu/~susan/courses/s141/hopower.pdf\n",
    "    \"\"\"\n",
    "    # standard normal distribution to determine z-values\n",
    "    standard_norm = scs.norm(0, 1)\n",
    "\n",
    "    # find Z_beta from desired power\n",
    "    Z_beta = standard_norm.ppf(power)\n",
    "\n",
    "    # find Z_alpha\n",
    "    Z_alpha = standard_norm.ppf(1-sig_level/2)\n",
    "\n",
    "    # average of probabilities from both groups\n",
    "    pooled_prob = (bcr + bcr+mde) / 2\n",
    "\n",
    "    min_N = (2 * pooled_prob * (1 - pooled_prob) * (Z_beta + Z_alpha)**2\n",
    "             / mde**2)\n",
    "\n",
    "    return int(min_N)"
   ]
  },
  {
   "cell_type": "code",
   "execution_count": 104,
   "metadata": {},
   "outputs": [],
   "source": [
    "baseline_cvrs= [0.05, 0.02, 0.03]\n",
    "mdes = [0.01, 0.02, 0.03, 0.05]\n",
    "power = 0.85\n",
    "sig_level = 0.05\n",
    "ss = []\n",
    "for bsc in baseline_cvrs:\n",
    "    for mde in mdes:\n",
    "        n = min_sample_size(bsc, mde, power, sig_level)\n",
    "        ss.append((bsc, mde, n))\n",
    "sample_df = pd.DataFrame(ss, columns =['baseline_cvr', 'mde', 'sample_size']) "
   ]
  },
  {
   "cell_type": "code",
   "execution_count": 105,
   "metadata": {},
   "outputs": [
    {
     "data": {
      "text/html": [
       "<div>\n",
       "<style scoped>\n",
       "    .dataframe tbody tr th:only-of-type {\n",
       "        vertical-align: middle;\n",
       "    }\n",
       "\n",
       "    .dataframe tbody tr th {\n",
       "        vertical-align: top;\n",
       "    }\n",
       "\n",
       "    .dataframe thead th {\n",
       "        text-align: right;\n",
       "    }\n",
       "</style>\n",
       "<table border=\"1\" class=\"dataframe\">\n",
       "  <thead>\n",
       "    <tr style=\"text-align: right;\">\n",
       "      <th></th>\n",
       "      <th>baseline_cvr</th>\n",
       "      <th>mde</th>\n",
       "      <th>sample_size</th>\n",
       "    </tr>\n",
       "  </thead>\n",
       "  <tbody>\n",
       "    <tr>\n",
       "      <th>0</th>\n",
       "      <td>0.05</td>\n",
       "      <td>0.01</td>\n",
       "      <td>9333</td>\n",
       "    </tr>\n",
       "    <tr>\n",
       "      <th>1</th>\n",
       "      <td>0.05</td>\n",
       "      <td>0.02</td>\n",
       "      <td>2531</td>\n",
       "    </tr>\n",
       "    <tr>\n",
       "      <th>2</th>\n",
       "      <td>0.05</td>\n",
       "      <td>0.03</td>\n",
       "      <td>1212</td>\n",
       "    </tr>\n",
       "    <tr>\n",
       "      <th>3</th>\n",
       "      <td>0.05</td>\n",
       "      <td>0.05</td>\n",
       "      <td>498</td>\n",
       "    </tr>\n",
       "    <tr>\n",
       "      <th>4</th>\n",
       "      <td>0.02</td>\n",
       "      <td>0.01</td>\n",
       "      <td>4376</td>\n",
       "    </tr>\n",
       "    <tr>\n",
       "      <th>5</th>\n",
       "      <td>0.02</td>\n",
       "      <td>0.02</td>\n",
       "      <td>1306</td>\n",
       "    </tr>\n",
       "    <tr>\n",
       "      <th>6</th>\n",
       "      <td>0.02</td>\n",
       "      <td>0.03</td>\n",
       "      <td>673</td>\n",
       "    </tr>\n",
       "    <tr>\n",
       "      <th>7</th>\n",
       "      <td>0.02</td>\n",
       "      <td>0.05</td>\n",
       "      <td>308</td>\n",
       "    </tr>\n",
       "    <tr>\n",
       "      <th>8</th>\n",
       "      <td>0.03</td>\n",
       "      <td>0.01</td>\n",
       "      <td>6064</td>\n",
       "    </tr>\n",
       "    <tr>\n",
       "      <th>9</th>\n",
       "      <td>0.03</td>\n",
       "      <td>0.02</td>\n",
       "      <td>1723</td>\n",
       "    </tr>\n",
       "    <tr>\n",
       "      <th>10</th>\n",
       "      <td>0.03</td>\n",
       "      <td>0.03</td>\n",
       "      <td>857</td>\n",
       "    </tr>\n",
       "    <tr>\n",
       "      <th>11</th>\n",
       "      <td>0.03</td>\n",
       "      <td>0.05</td>\n",
       "      <td>373</td>\n",
       "    </tr>\n",
       "  </tbody>\n",
       "</table>\n",
       "</div>"
      ],
      "text/plain": [
       "    baseline_cvr   mde  sample_size\n",
       "0           0.05  0.01         9333\n",
       "1           0.05  0.02         2531\n",
       "2           0.05  0.03         1212\n",
       "3           0.05  0.05          498\n",
       "4           0.02  0.01         4376\n",
       "5           0.02  0.02         1306\n",
       "6           0.02  0.03          673\n",
       "7           0.02  0.05          308\n",
       "8           0.03  0.01         6064\n",
       "9           0.03  0.02         1723\n",
       "10          0.03  0.03          857\n",
       "11          0.03  0.05          373"
      ]
     },
     "execution_count": 105,
     "metadata": {},
     "output_type": "execute_result"
    }
   ],
   "source": [
    "sample_df"
   ]
  },
  {
   "cell_type": "code",
   "execution_count": 60,
   "metadata": {},
   "outputs": [
    {
     "data": {
      "text/plain": [
       "<matplotlib.axes._subplots.AxesSubplot at 0x13108b650>"
      ]
     },
     "execution_count": 60,
     "metadata": {},
     "output_type": "execute_result"
    },
    {
     "data": {
      "image/png": "[encoded data removed]",
      "text/plain": [
       "<Figure size 432x288 with 1 Axes>"
      ]
     },
     "metadata": {
      "needs_background": "light"
     },
     "output_type": "display_data"
    }
   ],
   "source": [
    "sns.scatterplot(x='mde', y='sample_size', hue= 'baseline_cvr',data=sample_df)"
   ]
  },
  {
   "cell_type": "code",
   "execution_count": 107,
   "metadata": {},
   "outputs": [],
   "source": [
    "def calculate_cohen_f_effect_size_given_mde(\n",
    "        num_groups: int, data_vector: pd.Series, mde: float\n",
    "    ) -> float:\n",
    "        \"\"\"\n",
    "        Function that takes in data and number of groups and returns Cohen's f, a standard effect size measurement for\n",
    "        ANOVA testing. Cohen's f is defined as the standard deviation of the population means divided by their\n",
    "        common standard deviation. FTestAnovaPower() depends on this standardized effect size as an input.\n",
    "        \"\"\"\n",
    "        # TODO: consider bucket weights in a non-balanced bucketing situation.\n",
    "        normal_mean = data_vector.mean()\n",
    "        normal_std = data_vector.std()\n",
    "        inflated_mean = normal_mean * (1 + mde)\n",
    "        global_mean = np.mean([inflated_mean] + (num_groups - 1) * [normal_mean])\n",
    "        total_group_variance = calculate_group_variance_from_global_mean(\n",
    "            inflated_mean, global_mean, num_groups\n",
    "        )\n",
    "        for i in range(num_groups - 1):\n",
    "            total_group_variance += calculate_group_variance_from_global_mean(\n",
    "                normal_mean, global_mean, num_groups\n",
    "            )\n",
    "        total_group_std = np.sqrt(total_group_variance)\n",
    "        cohens_f_effect_size = float(total_group_std / normal_std)\n",
    "        return cohens_f_effect_size"
   ]
  },
  {
   "cell_type": "code",
   "execution_count": 109,
   "metadata": {},
   "outputs": [],
   "source": [
    "def generate_samples_needed_for_sufficient_power(df, mde, sig_level, power):\n",
    "    \"\"\"\n",
    "    Based on the supplied test characteristics (power, alpha, mde), calculates the expected number of participations\n",
    "    needed to generate the desired power level. Calculates power assuming a one-way ANOVA analysis\n",
    "    \"\"\"\n",
    "    num_buckets = df.bucket.nunique()\n",
    "    \n",
    "    standardized_effect_size = calculate_cohen_f_effect_size_given_mde(\n",
    "            num_groups=num_buckets, data_vector=df[column_for_data_analysis], mde=mde\n",
    "        )\n",
    "\n",
    "    samples_needed = FTestAnovaPower().solve_power(\n",
    "            effect_size=standardized_effect_size,\n",
    "            alpha=sig_level,\n",
    "            power=power,\n",
    "            k_groups=num_buckets,\n",
    "        )\n",
    "\n",
    "    return samples_needed"
   ]
  },
  {
   "cell_type": "code",
   "execution_count": 110,
   "metadata": {},
   "outputs": [],
   "source": [
    "def calculate_group_variance_from_global_mean(group_mean: float, global_mean: float, num_groups: int) -> float:\n",
    "    # TODO: consider ratio as bucket weights in a non-balanced bucketing situation.\n",
    "    ratio = 1 / num_groups\n",
    "    return ratio * ((group_mean - global_mean) ** 2)"
   ]
  },
  {
   "cell_type": "code",
   "execution_count": 113,
   "metadata": {},
   "outputs": [
    {
     "data": {
      "text/plain": [
       "1720041.1899876967"
      ]
     },
     "execution_count": 113,
     "metadata": {},
     "output_type": "execute_result"
    }
   ],
   "source": [
    "generate_samples_needed_for_sufficient_power(df, 0.02, sig_level, power)"
   ]
  },
  {
   "cell_type": "code",
   "execution_count": 138,
   "metadata": {},
   "outputs": [],
   "source": [
    "import math\n",
    "ss=[]\n",
    "mdes = [0.01, 0.015, 0.02, 0.025, 0.03, 0.035, 0.04, 0.045, 0.05]\n",
    "for mde in mdes:\n",
    "    n = generate_samples_needed_for_sufficient_power(df, mde, sig_level, power)\n",
    "    num_days = math.ceil(n / 64796)\n",
    "    ss.append((mde, n, num_days))\n",
    "sample_df = pd.DataFrame(ss, columns =['mde', 'sample_size', 'duration_days']) "
   ]
  },
  {
   "cell_type": "code",
   "execution_count": 139,
   "metadata": {},
   "outputs": [
    {
     "data": {
      "text/html": [
       "<div>\n",
       "<style scoped>\n",
       "    .dataframe tbody tr th:only-of-type {\n",
       "        vertical-align: middle;\n",
       "    }\n",
       "\n",
       "    .dataframe tbody tr th {\n",
       "        vertical-align: top;\n",
       "    }\n",
       "\n",
       "    .dataframe thead th {\n",
       "        text-align: right;\n",
       "    }\n",
       "</style>\n",
       "<table border=\"1\" class=\"dataframe\">\n",
       "  <thead>\n",
       "    <tr style=\"text-align: right;\">\n",
       "      <th></th>\n",
       "      <th>mde</th>\n",
       "      <th>sample_size</th>\n",
       "      <th>duration_days</th>\n",
       "    </tr>\n",
       "  </thead>\n",
       "  <tbody>\n",
       "    <tr>\n",
       "      <th>0</th>\n",
       "      <td>0.010</td>\n",
       "      <td>6.685124e+06</td>\n",
       "      <td>104</td>\n",
       "    </tr>\n",
       "    <tr>\n",
       "      <th>1</th>\n",
       "      <td>0.015</td>\n",
       "      <td>2.971167e+06</td>\n",
       "      <td>46</td>\n",
       "    </tr>\n",
       "    <tr>\n",
       "      <th>2</th>\n",
       "      <td>0.020</td>\n",
       "      <td>1.671283e+06</td>\n",
       "      <td>26</td>\n",
       "    </tr>\n",
       "    <tr>\n",
       "      <th>3</th>\n",
       "      <td>0.025</td>\n",
       "      <td>1.069621e+06</td>\n",
       "      <td>17</td>\n",
       "    </tr>\n",
       "    <tr>\n",
       "      <th>4</th>\n",
       "      <td>0.030</td>\n",
       "      <td>7.427933e+05</td>\n",
       "      <td>12</td>\n",
       "    </tr>\n",
       "    <tr>\n",
       "      <th>5</th>\n",
       "      <td>0.035</td>\n",
       "      <td>5.457262e+05</td>\n",
       "      <td>9</td>\n",
       "    </tr>\n",
       "    <tr>\n",
       "      <th>6</th>\n",
       "      <td>0.040</td>\n",
       "      <td>4.178221e+05</td>\n",
       "      <td>7</td>\n",
       "    </tr>\n",
       "    <tr>\n",
       "      <th>7</th>\n",
       "      <td>0.045</td>\n",
       "      <td>3.301314e+05</td>\n",
       "      <td>6</td>\n",
       "    </tr>\n",
       "    <tr>\n",
       "      <th>8</th>\n",
       "      <td>0.050</td>\n",
       "      <td>2.674068e+05</td>\n",
       "      <td>5</td>\n",
       "    </tr>\n",
       "  </tbody>\n",
       "</table>\n",
       "</div>"
      ],
      "text/plain": [
       "     mde   sample_size  duration_days\n",
       "0  0.010  6.685124e+06            104\n",
       "1  0.015  2.971167e+06             46\n",
       "2  0.020  1.671283e+06             26\n",
       "3  0.025  1.069621e+06             17\n",
       "4  0.030  7.427933e+05             12\n",
       "5  0.035  5.457262e+05              9\n",
       "6  0.040  4.178221e+05              7\n",
       "7  0.045  3.301314e+05              6\n",
       "8  0.050  2.674068e+05              5"
      ]
     },
     "execution_count": 139,
     "metadata": {},
     "output_type": "execute_result"
    }
   ],
   "source": [
    "sample_df"
   ]
  },
  {
   "cell_type": "code",
   "execution_count": 159,
   "metadata": {},
   "outputs": [
    {
     "data": {
      "text/plain": [
       "(array([-1000000.,        0.,  1000000.,  2000000.,  3000000.,  4000000.,\n",
       "         5000000.,  6000000.,  7000000.,  8000000.]),\n",
       " <a list of 10 Text major ticklabel objects>)"
      ]
     },
     "execution_count": 159,
     "metadata": {},
     "output_type": "execute_result"
    },
    {
     "data": {
      "image/png": "[encoded data removed]",
      "text/plain": [
       "<Figure size 504x360 with 1 Axes>"
      ]
     },
     "metadata": {
      "needs_background": "light"
     },
     "output_type": "display_data"
    }
   ],
   "source": [
    "fig, ax = plt.subplots(figsize=(7,5))\n",
    "sns.lineplot(x='mde', y='sample_size', data=sample_df)\n",
    "plt.xlabel('mde (desktop web)', fontsize= 14)\n",
    "plt.ylabel('required sample size', fontsize= 14)\n",
    "plt.xticks(fontsize=12)\n",
    "plt.yticks(fontsize=14) "
   ]
  },
  {
   "cell_type": "code",
   "execution_count": 156,
   "metadata": {},
   "outputs": [
    {
     "data": {
      "text/plain": [
       "(array([  0.,  20.,  40.,  60.,  80., 100., 120.]),\n",
       " <a list of 7 Text major ticklabel objects>)"
      ]
     },
     "execution_count": 156,
     "metadata": {},
     "output_type": "execute_result"
    },
    {
     "data": {
      "image/png": "[encoded data removed]",
      "text/plain": [
       "<Figure size 504x360 with 1 Axes>"
      ]
     },
     "metadata": {
      "needs_background": "light"
     },
     "output_type": "display_data"
    }
   ],
   "source": [
    "fig, ax = plt.subplots(figsize=(7,5))\n",
    "sns.lineplot(x='mde', y='duration_days',data=sample_df)\n",
    "plt.xlabel('mde (desktop web)', fontsize= 14)\n",
    "plt.ylabel('estimated duration (days)', fontsize= 14)\n",
    "plt.xticks(fontsize=12)\n",
    "plt.yticks(fontsize=12) "
   ]
  },
  {
   "cell_type": "code",
   "execution_count": null,
   "metadata": {},
   "outputs": [],
   "source": []
  }
 ],
 "metadata": {
  "kernelspec": {
   "display_name": "Python 3",
   "language": "python",
   "name": "python3"
  },
  "language_info": {
   "codemirror_mode": {
    "name": "ipython",
    "version": 3
   },
   "file_extension": ".py",
   "mimetype": "text/x-python",
   "name": "python",
   "nbconvert_exporter": "python",
   "pygments_lexer": "ipython3",
   "version": "3.7.7"
  },
  "toc": {
   "base_numbering": 1,
   "nav_menu": {},
   "number_sections": true,
   "sideBar": true,
   "skip_h1_title": false,
   "title_cell": "Table of Contents",
   "title_sidebar": "Contents",
   "toc_cell": false,
   "toc_position": {},
   "toc_section_display": true,
   "toc_window_display": false
  },
  "varInspector": {
   "cols": {
    "lenName": 16,
    "lenType": 16,
    "lenVar": 40
   },
   "kernels_config": {
    "python": {
     "delete_cmd_postfix": "",
     "delete_cmd_prefix": "del ",
     "library": "var_list.py",
     "varRefreshCmd": "print(var_dic_list())"
    },
    "r": {
     "delete_cmd_postfix": ") ",
     "delete_cmd_prefix": "rm(",
     "library": "var_list.r",
     "varRefreshCmd": "cat(var_dic_list()) "
    }
   },
   "types_to_exclude": [
    "module",
    "function",
    "builtin_function_or_method",
    "instance",
    "_Feature"
   ],
   "window_display": false
  }
 },
 "nbformat": 4,
 "nbformat_minor": 4
}
